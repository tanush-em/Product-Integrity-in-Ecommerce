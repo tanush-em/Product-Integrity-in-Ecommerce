{
 "cells": [
  {
   "cell_type": "markdown",
   "metadata": {},
   "source": [
    "### LIBRARY AND DATA IMPORTS"
   ]
  },
  {
   "cell_type": "code",
   "execution_count": 456,
   "metadata": {
    "is_executing": true
   },
   "outputs": [],
   "source": [
    "import pandas as pd      "
   ]
  },
  {
   "cell_type": "code",
   "execution_count": 457,
   "metadata": {},
   "outputs": [
    {
     "name": "stderr",
     "output_type": "stream",
     "text": [
      "<>:1: SyntaxWarning: invalid escape sequence '\\D'\n",
      "<>:1: SyntaxWarning: invalid escape sequence '\\D'\n",
      "C:\\Users\\Tanush\\AppData\\Local\\Temp\\ipykernel_15120\\230166992.py:1: SyntaxWarning: invalid escape sequence '\\D'\n",
      "  raw_df = pd.read_csv(\"E:\\DPBH '23\\datasets\\Amazon-Products.csv\")\n"
     ]
    },
    {
     "data": {
      "text/html": [
       "<div>\n",
       "<style scoped>\n",
       "    .dataframe tbody tr th:only-of-type {\n",
       "        vertical-align: middle;\n",
       "    }\n",
       "\n",
       "    .dataframe tbody tr th {\n",
       "        vertical-align: top;\n",
       "    }\n",
       "\n",
       "    .dataframe thead th {\n",
       "        text-align: right;\n",
       "    }\n",
       "</style>\n",
       "<table border=\"1\" class=\"dataframe\">\n",
       "  <thead>\n",
       "    <tr style=\"text-align: right;\">\n",
       "      <th></th>\n",
       "      <th>prodID</th>\n",
       "      <th>main_category</th>\n",
       "      <th>sub_category</th>\n",
       "      <th>ratings</th>\n",
       "      <th>no_of_ratings</th>\n",
       "      <th>discount_price</th>\n",
       "      <th>actual_price</th>\n",
       "      <th>name</th>\n",
       "      <th>link</th>\n",
       "      <th>image</th>\n",
       "      <th>isDarkPattern</th>\n",
       "    </tr>\n",
       "  </thead>\n",
       "  <tbody>\n",
       "    <tr>\n",
       "      <th>156961</th>\n",
       "      <td>NaN</td>\n",
       "      <td>accessories</td>\n",
       "      <td>Fashion &amp; Silver Jewellery</td>\n",
       "      <td>4.6</td>\n",
       "      <td>4</td>\n",
       "      <td>499</td>\n",
       "      <td>999</td>\n",
       "      <td>Imprexis Store Red Designer Punjabi Chuda Brid...</td>\n",
       "      <td>https://www.amazon.in/Imprexis-Store-Designer-...</td>\n",
       "      <td>https://m.media-amazon.com/images/W/IMAGERENDE...</td>\n",
       "      <td>0</td>\n",
       "    </tr>\n",
       "    <tr>\n",
       "      <th>245417</th>\n",
       "      <td>NaN</td>\n",
       "      <td>appliances</td>\n",
       "      <td>Heating &amp; Cooling Appliances</td>\n",
       "      <td>3.8</td>\n",
       "      <td>28</td>\n",
       "      <td>249</td>\n",
       "      <td>359</td>\n",
       "      <td>pmw - Tibcon Capacitor for Ceiling Fan - 3.15 ...</td>\n",
       "      <td>https://www.amazon.in/Pmw-Tibcon-Capacitor-Cei...</td>\n",
       "      <td>https://m.media-amazon.com/images/I/61MYZMpBLh...</td>\n",
       "      <td>0</td>\n",
       "    </tr>\n",
       "    <tr>\n",
       "      <th>60573</th>\n",
       "      <td>NaN</td>\n",
       "      <td>tv, audio &amp; cameras</td>\n",
       "      <td>Camera Accessories</td>\n",
       "      <td>4.5</td>\n",
       "      <td>21,982</td>\n",
       "      <td>939</td>\n",
       "      <td>2,100</td>\n",
       "      <td>SanDisk Extreme Pro microSD UHS I Card 64GB fo...</td>\n",
       "      <td>https://www.amazon.in/SanDisk-Extreme-microSD-...</td>\n",
       "      <td>https://m.media-amazon.com/images/I/61JklAbgXN...</td>\n",
       "      <td>0</td>\n",
       "    </tr>\n",
       "  </tbody>\n",
       "</table>\n",
       "</div>"
      ],
      "text/plain": [
       "        prodID        main_category                  sub_category ratings  \\\n",
       "156961     NaN          accessories    Fashion & Silver Jewellery     4.6   \n",
       "245417     NaN           appliances  Heating & Cooling Appliances     3.8   \n",
       "60573      NaN  tv, audio & cameras            Camera Accessories     4.5   \n",
       "\n",
       "       no_of_ratings discount_price actual_price  \\\n",
       "156961             4            499          999   \n",
       "245417            28            249          359   \n",
       "60573         21,982            939        2,100   \n",
       "\n",
       "                                                     name  \\\n",
       "156961  Imprexis Store Red Designer Punjabi Chuda Brid...   \n",
       "245417  pmw - Tibcon Capacitor for Ceiling Fan - 3.15 ...   \n",
       "60573   SanDisk Extreme Pro microSD UHS I Card 64GB fo...   \n",
       "\n",
       "                                                     link  \\\n",
       "156961  https://www.amazon.in/Imprexis-Store-Designer-...   \n",
       "245417  https://www.amazon.in/Pmw-Tibcon-Capacitor-Cei...   \n",
       "60573   https://www.amazon.in/SanDisk-Extreme-microSD-...   \n",
       "\n",
       "                                                    image  isDarkPattern  \n",
       "156961  https://m.media-amazon.com/images/W/IMAGERENDE...              0  \n",
       "245417  https://m.media-amazon.com/images/I/61MYZMpBLh...              0  \n",
       "60573   https://m.media-amazon.com/images/I/61JklAbgXN...              0  "
      ]
     },
     "execution_count": 457,
     "metadata": {},
     "output_type": "execute_result"
    }
   ],
   "source": [
    "raw_df = pd.read_csv(\"E:\\DPBH '23\\datasets\\Amazon-Products.csv\")\n",
    "raw_df['isDarkPattern'] = 0\n",
    "raw_df.sample(3)"
   ]
  },
  {
   "cell_type": "markdown",
   "metadata": {},
   "source": [
    "### DATA CLEANING"
   ]
  },
  {
   "cell_type": "code",
   "execution_count": 458,
   "metadata": {},
   "outputs": [],
   "source": [
    "# remove ',' in integer columns\n",
    "raw_df[\"actual_price\"] = raw_df[\"actual_price\"].str.replace(',', '')\n",
    "raw_df[\"discount_price\"] = raw_df[\"discount_price\"].str.replace(',', '')\n",
    "raw_df[\"no_of_ratings\"] = raw_df[\"no_of_ratings\"].str.replace(',', '')\n",
    "\n",
    "# drop unwanted columns\n",
    "raw_df.drop([\"sub_category\"], axis=1, inplace=True)\n",
    "raw_df.sample(3)\n",
    "\n",
    "df2 = raw_df"
   ]
  },
  {
   "cell_type": "code",
   "execution_count": 459,
   "metadata": {},
   "outputs": [
    {
     "data": {
      "text/html": [
       "<div>\n",
       "<style scoped>\n",
       "    .dataframe tbody tr th:only-of-type {\n",
       "        vertical-align: middle;\n",
       "    }\n",
       "\n",
       "    .dataframe tbody tr th {\n",
       "        vertical-align: top;\n",
       "    }\n",
       "\n",
       "    .dataframe thead th {\n",
       "        text-align: right;\n",
       "    }\n",
       "</style>\n",
       "<table border=\"1\" class=\"dataframe\">\n",
       "  <thead>\n",
       "    <tr style=\"text-align: right;\">\n",
       "      <th></th>\n",
       "      <th>prodID</th>\n",
       "      <th>main_category</th>\n",
       "      <th>ratings</th>\n",
       "      <th>no_of_ratings</th>\n",
       "      <th>discount_price</th>\n",
       "      <th>actual_price</th>\n",
       "      <th>name</th>\n",
       "      <th>link</th>\n",
       "      <th>image</th>\n",
       "      <th>isDarkPattern</th>\n",
       "    </tr>\n",
       "  </thead>\n",
       "  <tbody>\n",
       "    <tr>\n",
       "      <th>146624</th>\n",
       "      <td>146624</td>\n",
       "      <td>women's clothing</td>\n",
       "      <td>4.3</td>\n",
       "      <td>38</td>\n",
       "      <td>898</td>\n",
       "      <td>1100</td>\n",
       "      <td>Povami Women's Net Hand And Matha Buta Embroid...</td>\n",
       "      <td>https://www.amazon.in/POVAMI-Embroidery-Dupatt...</td>\n",
       "      <td>https://m.media-amazon.com/images/I/618--4Blh5...</td>\n",
       "      <td>0</td>\n",
       "    </tr>\n",
       "    <tr>\n",
       "      <th>470939</th>\n",
       "      <td>470939</td>\n",
       "      <td>stores</td>\n",
       "      <td>NaN</td>\n",
       "      <td>NaN</td>\n",
       "      <td>1696</td>\n",
       "      <td>3595</td>\n",
       "      <td>Duke boys Fwi0482 Training Shoes</td>\n",
       "      <td>https://www.amazon.in/Duke-Fwi0482-Orange-Trai...</td>\n",
       "      <td>https://m.media-amazon.com/images/I/71tgZGNWSt...</td>\n",
       "      <td>0</td>\n",
       "    </tr>\n",
       "    <tr>\n",
       "      <th>107457</th>\n",
       "      <td>107457</td>\n",
       "      <td>women's clothing</td>\n",
       "      <td>4.1</td>\n",
       "      <td>1119</td>\n",
       "      <td>464</td>\n",
       "      <td>1399</td>\n",
       "      <td>Rock Paper Scissors Womens Tank Top High Neck ...</td>\n",
       "      <td>https://www.amazon.in/Rock-Paper-Scissors-Styl...</td>\n",
       "      <td>https://m.media-amazon.com/images/I/71V8nzp-04...</td>\n",
       "      <td>0</td>\n",
       "    </tr>\n",
       "  </tbody>\n",
       "</table>\n",
       "</div>"
      ],
      "text/plain": [
       "        prodID     main_category ratings no_of_ratings discount_price  \\\n",
       "146624  146624  women's clothing     4.3            38            898   \n",
       "470939  470939            stores     NaN           NaN           1696   \n",
       "107457  107457  women's clothing     4.1          1119            464   \n",
       "\n",
       "       actual_price                                               name  \\\n",
       "146624         1100  Povami Women's Net Hand And Matha Buta Embroid...   \n",
       "470939         3595                   Duke boys Fwi0482 Training Shoes   \n",
       "107457         1399  Rock Paper Scissors Womens Tank Top High Neck ...   \n",
       "\n",
       "                                                     link  \\\n",
       "146624  https://www.amazon.in/POVAMI-Embroidery-Dupatt...   \n",
       "470939  https://www.amazon.in/Duke-Fwi0482-Orange-Trai...   \n",
       "107457  https://www.amazon.in/Rock-Paper-Scissors-Styl...   \n",
       "\n",
       "                                                    image  isDarkPattern  \n",
       "146624  https://m.media-amazon.com/images/I/618--4Blh5...              0  \n",
       "470939  https://m.media-amazon.com/images/I/71tgZGNWSt...              0  \n",
       "107457  https://m.media-amazon.com/images/I/71V8nzp-04...              0  "
      ]
     },
     "execution_count": 459,
     "metadata": {},
     "output_type": "execute_result"
    }
   ],
   "source": [
    "# generate unique value for each product in 'prodID; column\n",
    "df2[\"prodID\"] = range(len(df2))\n",
    "df2.sample(3)"
   ]
  },
  {
   "cell_type": "code",
   "execution_count": 460,
   "metadata": {},
   "outputs": [],
   "source": [
    "# handle missing values and NaN values or datatype errors\n",
    "# and changing str -> int ('123' -> 123)\n",
    "\n",
    "# ratings column\n",
    "df2['ratings'] = pd.to_numeric(df2['ratings'], errors='coerce')\n",
    "df2['ratings'] = df2['ratings'].fillna(df2['ratings'].mean())\n",
    "df2 = df2.astype({'ratings':'float'})\n",
    "\n",
    "# no_of_ratings column\n",
    "mask = pd.to_numeric(df2['no_of_ratings'], errors='coerce').notnull()\n",
    "df2 = df2[mask]\n",
    "df2 = df2.astype({'no_of_ratings':'int'})\n",
    "\n",
    "# actual_price column\n",
    "mask = pd.to_numeric(df2['actual_price'],errors='coerce').notnull()\n",
    "df2 = df2[mask]\n",
    "df2 = df2.astype({'actual_price':'float'})\n",
    "\n",
    "# discount_price column\n",
    "mask = pd.to_numeric(df2['discount_price'],errors='coerce').notnull()\n",
    "df2 = df2[mask]\n",
    "df2 = df2.astype({'discount_price':'float'})"
   ]
  },
  {
   "cell_type": "code",
   "execution_count": 461,
   "metadata": {},
   "outputs": [
    {
     "data": {
      "text/html": [
       "<div>\n",
       "<style scoped>\n",
       "    .dataframe tbody tr th:only-of-type {\n",
       "        vertical-align: middle;\n",
       "    }\n",
       "\n",
       "    .dataframe tbody tr th {\n",
       "        vertical-align: top;\n",
       "    }\n",
       "\n",
       "    .dataframe thead th {\n",
       "        text-align: right;\n",
       "    }\n",
       "</style>\n",
       "<table border=\"1\" class=\"dataframe\">\n",
       "  <thead>\n",
       "    <tr style=\"text-align: right;\">\n",
       "      <th></th>\n",
       "      <th>prodID</th>\n",
       "      <th>main_category</th>\n",
       "      <th>ratings</th>\n",
       "      <th>no_of_ratings</th>\n",
       "      <th>discount_price</th>\n",
       "      <th>actual_price</th>\n",
       "      <th>name</th>\n",
       "      <th>link</th>\n",
       "      <th>image</th>\n",
       "      <th>isDarkPattern</th>\n",
       "    </tr>\n",
       "  </thead>\n",
       "  <tbody>\n",
       "    <tr>\n",
       "      <th>503337</th>\n",
       "      <td>503337</td>\n",
       "      <td>toys &amp; baby products</td>\n",
       "      <td>4.1</td>\n",
       "      <td>1053</td>\n",
       "      <td>1919.0</td>\n",
       "      <td>4199.0</td>\n",
       "      <td>JoyRide Three Wheel Kick Scooter for Boys and ...</td>\n",
       "      <td>https://www.amazon.in/JoyRide-Scooter-Adjustab...</td>\n",
       "      <td>https://m.media-amazon.com/images/I/51RhHldCNF...</td>\n",
       "      <td>0</td>\n",
       "    </tr>\n",
       "    <tr>\n",
       "      <th>359158</th>\n",
       "      <td>359158</td>\n",
       "      <td>women's clothing</td>\n",
       "      <td>4.1</td>\n",
       "      <td>160</td>\n",
       "      <td>525.0</td>\n",
       "      <td>1799.0</td>\n",
       "      <td>Amazon Brand - Myx Women Night Suit Set</td>\n",
       "      <td>https://www.amazon.in/Amazon-Brand-Womens-Regu...</td>\n",
       "      <td>https://m.media-amazon.com/images/W/IMAGERENDE...</td>\n",
       "      <td>0</td>\n",
       "    </tr>\n",
       "    <tr>\n",
       "      <th>186329</th>\n",
       "      <td>186329</td>\n",
       "      <td>men's shoes</td>\n",
       "      <td>4.6</td>\n",
       "      <td>4</td>\n",
       "      <td>499.0</td>\n",
       "      <td>999.0</td>\n",
       "      <td>Shoenix Men's Formal Patent Shoes</td>\n",
       "      <td>https://www.amazon.in/Shoenix-Patent-Formal-Sh...</td>\n",
       "      <td>https://m.media-amazon.com/images/I/71Lned3vn0...</td>\n",
       "      <td>0</td>\n",
       "    </tr>\n",
       "  </tbody>\n",
       "</table>\n",
       "</div>"
      ],
      "text/plain": [
       "        prodID         main_category  ratings  no_of_ratings  discount_price  \\\n",
       "503337  503337  toys & baby products      4.1           1053          1919.0   \n",
       "359158  359158      women's clothing      4.1            160           525.0   \n",
       "186329  186329           men's shoes      4.6              4           499.0   \n",
       "\n",
       "        actual_price                                               name  \\\n",
       "503337        4199.0  JoyRide Three Wheel Kick Scooter for Boys and ...   \n",
       "359158        1799.0            Amazon Brand - Myx Women Night Suit Set   \n",
       "186329         999.0                  Shoenix Men's Formal Patent Shoes   \n",
       "\n",
       "                                                     link  \\\n",
       "503337  https://www.amazon.in/JoyRide-Scooter-Adjustab...   \n",
       "359158  https://www.amazon.in/Amazon-Brand-Womens-Regu...   \n",
       "186329  https://www.amazon.in/Shoenix-Patent-Formal-Sh...   \n",
       "\n",
       "                                                    image  isDarkPattern  \n",
       "503337  https://m.media-amazon.com/images/I/51RhHldCNF...              0  \n",
       "359158  https://m.media-amazon.com/images/W/IMAGERENDE...              0  \n",
       "186329  https://m.media-amazon.com/images/I/71Lned3vn0...              0  "
      ]
     },
     "execution_count": 461,
     "metadata": {},
     "output_type": "execute_result"
    }
   ],
   "source": [
    "df2.sample(3)"
   ]
  },
  {
   "cell_type": "code",
   "execution_count": 462,
   "metadata": {},
   "outputs": [
    {
     "name": "stdout",
     "output_type": "stream",
     "text": [
      "          Value Ranges  Frequency\n",
      "0          (0, 100000]     334650\n",
      "1     (100000, 200000]        248\n",
      "2     (200000, 300000]         42\n",
      "3     (300000, 400000]         13\n",
      "4     (400000, 500000]          4\n",
      "5     (500000, 600000]          1\n",
      "6     (600000, 700000]          1\n",
      "7     (700000, 800000]          1\n",
      "8     (800000, 900000]          0\n",
      "9    (900000, 1000000]          0\n",
      "10  (1000000, 1100000]          0\n",
      "11  (1100000, 1200000]          0\n",
      "12  (1200000, 1300000]          0\n",
      "13  (1300000, 1400000]          0\n",
      "14  (1400000, 1500000]          0\n",
      "15  (1500000, 1600000]          1\n",
      "16  (1600000, 1700000]          0\n",
      "17  (1700000, 1800000]          0\n",
      "18  (1800000, 1900000]          0\n",
      "19  (1900000, 2000000]          0\n",
      "20  (2000000, 2100000]          0\n",
      "21  (2100000, 2200000]          0\n",
      "22  (2200000, 2300000]          0\n",
      "23  (2300000, 2400000]          0\n",
      "24  (2400000, 2500000]          0\n",
      "25  (2500000, 2600000]          0\n",
      "26  (2600000, 2700000]          0\n",
      "27  (2700000, 2800000]          0\n",
      "28  (2800000, 2900000]          0\n",
      "29  (2900000, 3000000]          0\n",
      "30  (3000000, 3100000]          0\n",
      "31  (3100000, 3200000]          0\n",
      "32  (3200000, 3300000]          0\n",
      "33  (3300000, 3400000]          0\n",
      "34  (3400000, 3500000]          0\n",
      "35  (3500000, 3600000]          0\n",
      "36  (3600000, 3700000]          0\n",
      "37  (3700000, 3800000]          0\n",
      "38  (3800000, 3900000]          0\n",
      "39  (3900000, 4000000]          0\n",
      "40  (4000000, 4100000]          0\n",
      "41  (4100000, 4200000]          0\n",
      "42  (4200000, 4300000]          0\n",
      "43  (4300000, 4400000]          0\n",
      "44  (4400000, 4500000]          0\n",
      "45  (4500000, 4600000]          0\n",
      "46  (4600000, 4700000]          0\n",
      "47  (4700000, 4800000]          0\n",
      "48  (4800000, 4900000]          0\n",
      "49  (4900000, 5000000]          0\n",
      "50  (5000000, 5100000]          0\n",
      "51  (5100000, 5200000]          0\n",
      "52  (5200000, 5300000]          0\n",
      "53  (5300000, 5400000]          0\n",
      "54  (5400000, 5500000]          0\n",
      "55  (5500000, 5600000]          0\n",
      "56  (5600000, 5700000]          0\n",
      "57  (5700000, 5800000]          0\n",
      "58  (5800000, 5900000]          0\n",
      "59  (5900000, 6000000]          0\n",
      "60  (6000000, 6100000]          0\n",
      "61  (6100000, 6200000]          0\n",
      "62  (6200000, 6300000]          0\n",
      "63  (6300000, 6400000]          0\n",
      "64  (6400000, 6500000]          0\n",
      "65  (6500000, 6600000]          0\n",
      "66  (6600000, 6700000]          0\n",
      "67  (6700000, 6800000]          0\n",
      "68  (6800000, 6900000]          0\n",
      "69  (6900000, 7000000]          0\n",
      "70  (7000000, 7100000]          0\n",
      "71  (7100000, 7200000]          0\n",
      "72  (7200000, 7300000]          0\n",
      "73  (7300000, 7400000]          0\n",
      "74  (7400000, 7500000]          0\n",
      "75  (7500000, 7600000]          0\n",
      "76  (7600000, 7700000]          0\n",
      "77  (7700000, 7800000]          0\n",
      "78  (7800000, 7900000]          0\n",
      "79  (7900000, 8000000]          0\n",
      "80  (8000000, 8100000]          0\n",
      "81  (8100000, 8200000]          0\n",
      "82  (8200000, 8300000]          0\n",
      "83  (8300000, 8400000]          0\n",
      "84  (8400000, 8500000]          0\n",
      "85  (8500000, 8600000]          0\n",
      "86  (8600000, 8700000]          0\n",
      "87  (8700000, 8800000]          0\n",
      "88  (8800000, 8900000]          0\n",
      "89  (8900000, 9000000]          0\n",
      "90  (9000000, 9100000]          0\n",
      "91  (9100000, 9200000]          0\n",
      "92  (9200000, 9300000]          0\n",
      "93  (9300000, 9400000]          0\n",
      "94  (9400000, 9500000]          0\n",
      "95  (9500000, 9600000]          0\n",
      "96  (9600000, 9700000]          0\n",
      "97  (9700000, 9800000]          0\n",
      "98  (9800000, 9900000]          0\n"
     ]
    }
   ],
   "source": [
    "# checking for outliers\n",
    "\n",
    "# creating bins and counting frequencies\n",
    "bins = [i * 100000 for i in range(100)]\n",
    "\n",
    "frequency_table = pd.cut(df2['actual_price'], bins=bins).value_counts().sort_index().reset_index()\n",
    "frequency_table.columns = ['Value Ranges', 'Frequency']\n",
    "\n",
    "# setting display options to show all rows without truncation\n",
    "pd.set_option('display.max_rows', None)\n",
    "\n",
    "print(frequency_table)\n"
   ]
  },
  {
   "cell_type": "code",
   "execution_count": 463,
   "metadata": {},
   "outputs": [
    {
     "data": {
      "text/plain": [
       "count    334650.000000\n",
       "mean       3089.619773\n",
       "std        6635.233740\n",
       "min          10.000000\n",
       "25%         900.000000\n",
       "50%        1499.000000\n",
       "75%        2799.000000\n",
       "max      100000.000000\n",
       "Name: actual_price, dtype: float64"
      ]
     },
     "execution_count": 463,
     "metadata": {},
     "output_type": "execute_result"
    }
   ],
   "source": [
    "# outlier removal in 'actual_price'\n",
    "threshold_price = 100000 \n",
    "\n",
    "df2 = df2[df2.apply(lambda row: row['actual_price'] <= threshold_price, axis=1)]\n",
    "df2 = df2[df2.apply(lambda row: row['actual_price'] >= 0, axis=1)]\n",
    "\n",
    "df2['actual_price'].describe()\n"
   ]
  },
  {
   "cell_type": "code",
   "execution_count": 464,
   "metadata": {},
   "outputs": [
    {
     "data": {
      "text/plain": [
       "count    334650.000000\n",
       "mean       1651.289224\n",
       "std        4607.405884\n",
       "min           8.000000\n",
       "25%         359.000000\n",
       "50%         599.000000\n",
       "75%        1199.000000\n",
       "max       99499.000000\n",
       "Name: discount_price, dtype: float64"
      ]
     },
     "execution_count": 464,
     "metadata": {},
     "output_type": "execute_result"
    }
   ],
   "source": [
    "# outlier removal in 'discount_price'\n",
    "threshold_price = 100000 \n",
    "\n",
    "df2 = df2[df2.apply(lambda row: row['discount_price'] <= threshold_price, axis=1)]\n",
    "df2 = df2[df2.apply(lambda row: row['discount_price'] >= 0, axis=1)]\n",
    "\n",
    "df2['discount_price'].describe()\n"
   ]
  },
  {
   "cell_type": "code",
   "execution_count": 465,
   "metadata": {},
   "outputs": [
    {
     "name": "stdout",
     "output_type": "stream",
     "text": [
      "      Value Ranges  Frequency\n",
      "0       (0, 10000]     319828\n",
      "1   (10000, 20000]       8144\n",
      "2   (20000, 30000]       2726\n",
      "3   (30000, 40000]       1291\n",
      "4   (40000, 50000]        848\n",
      "5   (50000, 60000]        709\n",
      "6   (60000, 70000]        424\n",
      "7   (70000, 80000]        336\n",
      "8   (80000, 90000]        205\n",
      "9  (90000, 100000]        139\n"
     ]
    }
   ],
   "source": [
    "# EDA on 'actual_price'\n",
    "\n",
    "# Creating bins and counting frequencies\n",
    "bins = [i * 10000 for i in range(11)]\n",
    "\n",
    "frequency_table = pd.cut(df2['actual_price'], bins=bins).value_counts().sort_index().reset_index()\n",
    "frequency_table.columns = ['Value Ranges', 'Frequency']\n",
    "\n",
    "# set display options to show all rows without truncation\n",
    "pd.set_option('display.max_rows', None)\n",
    "\n",
    "print(frequency_table)\n"
   ]
  },
  {
   "cell_type": "code",
   "execution_count": 466,
   "metadata": {},
   "outputs": [
    {
     "name": "stdout",
     "output_type": "stream",
     "text": [
      "      Value Ranges  Frequency\n",
      "0       (0, 10000]     325728\n",
      "1   (10000, 20000]       4919\n",
      "2   (20000, 30000]       1703\n",
      "3   (30000, 40000]       1096\n",
      "4   (40000, 50000]        587\n",
      "5   (50000, 60000]        306\n",
      "6   (60000, 70000]        190\n",
      "7   (70000, 80000]         88\n",
      "8   (80000, 90000]         31\n",
      "9  (90000, 100000]          2\n"
     ]
    }
   ],
   "source": [
    "# EDA on 'discount_price'\n",
    "\n",
    "# Creating bins and counting frequencies\n",
    "bins = [i * 10000 for i in range(11)]\n",
    "\n",
    "frequency_table = pd.cut(df2['discount_price'], bins=bins).value_counts().sort_index().reset_index()\n",
    "frequency_table.columns = ['Value Ranges', 'Frequency']\n",
    "\n",
    "# set display options to show all rows without truncation\n",
    "pd.set_option('display.max_rows', None)\n",
    "\n",
    "print(frequency_table)\n"
   ]
  },
  {
   "cell_type": "markdown",
   "metadata": {},
   "source": [
    "### FEATURE ENGINEERING"
   ]
  },
  {
   "cell_type": "code",
   "execution_count": 467,
   "metadata": {},
   "outputs": [
    {
     "data": {
      "text/html": [
       "<div>\n",
       "<style scoped>\n",
       "    .dataframe tbody tr th:only-of-type {\n",
       "        vertical-align: middle;\n",
       "    }\n",
       "\n",
       "    .dataframe tbody tr th {\n",
       "        vertical-align: top;\n",
       "    }\n",
       "\n",
       "    .dataframe thead th {\n",
       "        text-align: right;\n",
       "    }\n",
       "</style>\n",
       "<table border=\"1\" class=\"dataframe\">\n",
       "  <thead>\n",
       "    <tr style=\"text-align: right;\">\n",
       "      <th></th>\n",
       "      <th>prodID</th>\n",
       "      <th>main_category</th>\n",
       "      <th>ratings</th>\n",
       "      <th>no_of_ratings</th>\n",
       "      <th>discount_price</th>\n",
       "      <th>actual_price</th>\n",
       "      <th>name</th>\n",
       "      <th>link</th>\n",
       "      <th>image</th>\n",
       "      <th>isDarkPattern</th>\n",
       "      <th>diff_percent</th>\n",
       "    </tr>\n",
       "  </thead>\n",
       "  <tbody>\n",
       "    <tr>\n",
       "      <th>93749</th>\n",
       "      <td>93749</td>\n",
       "      <td>men's shoes</td>\n",
       "      <td>3.7</td>\n",
       "      <td>6</td>\n",
       "      <td>3211.35</td>\n",
       "      <td>6999.0</td>\n",
       "      <td>Adidas Unisex-Adult X Speedflow.3 in Football ...</td>\n",
       "      <td>https://www.amazon.in/Adidas-Unisex-Synthetic-...</td>\n",
       "      <td>https://m.media-amazon.com/images/I/71+Upm3s5x...</td>\n",
       "      <td>0</td>\n",
       "      <td>54.117017</td>\n",
       "    </tr>\n",
       "    <tr>\n",
       "      <th>326796</th>\n",
       "      <td>326796</td>\n",
       "      <td>accessories</td>\n",
       "      <td>5.0</td>\n",
       "      <td>2</td>\n",
       "      <td>599.00</td>\n",
       "      <td>1099.0</td>\n",
       "      <td>Trideva Blessings 8 Mukhi Rudraksha/Eight Face...</td>\n",
       "      <td>https://www.amazon.in/Trideva-Blessings-Mukhi-...</td>\n",
       "      <td>https://m.media-amazon.com/images/W/IMAGERENDE...</td>\n",
       "      <td>0</td>\n",
       "      <td>45.495905</td>\n",
       "    </tr>\n",
       "    <tr>\n",
       "      <th>249591</th>\n",
       "      <td>249591</td>\n",
       "      <td>appliances</td>\n",
       "      <td>1.0</td>\n",
       "      <td>1</td>\n",
       "      <td>250.00</td>\n",
       "      <td>590.0</td>\n",
       "      <td>Brass Relief Pressure Valve for Storage Water ...</td>\n",
       "      <td>https://www.amazon.in/Brass-Relief-Pressure-St...</td>\n",
       "      <td>https://m.media-amazon.com/images/I/51l5RCjJId...</td>\n",
       "      <td>0</td>\n",
       "      <td>57.627119</td>\n",
       "    </tr>\n",
       "  </tbody>\n",
       "</table>\n",
       "</div>"
      ],
      "text/plain": [
       "        prodID main_category  ratings  no_of_ratings  discount_price  \\\n",
       "93749    93749   men's shoes      3.7              6         3211.35   \n",
       "326796  326796   accessories      5.0              2          599.00   \n",
       "249591  249591    appliances      1.0              1          250.00   \n",
       "\n",
       "        actual_price                                               name  \\\n",
       "93749         6999.0  Adidas Unisex-Adult X Speedflow.3 in Football ...   \n",
       "326796        1099.0  Trideva Blessings 8 Mukhi Rudraksha/Eight Face...   \n",
       "249591         590.0  Brass Relief Pressure Valve for Storage Water ...   \n",
       "\n",
       "                                                     link  \\\n",
       "93749   https://www.amazon.in/Adidas-Unisex-Synthetic-...   \n",
       "326796  https://www.amazon.in/Trideva-Blessings-Mukhi-...   \n",
       "249591  https://www.amazon.in/Brass-Relief-Pressure-St...   \n",
       "\n",
       "                                                    image  isDarkPattern  \\\n",
       "93749   https://m.media-amazon.com/images/I/71+Upm3s5x...              0   \n",
       "326796  https://m.media-amazon.com/images/W/IMAGERENDE...              0   \n",
       "249591  https://m.media-amazon.com/images/I/51l5RCjJId...              0   \n",
       "\n",
       "        diff_percent  \n",
       "93749      54.117017  \n",
       "326796     45.495905  \n",
       "249591     57.627119  "
      ]
     },
     "execution_count": 467,
     "metadata": {},
     "output_type": "execute_result"
    }
   ],
   "source": [
    "# feature extraction 'diff_percent'\n",
    "df2['diff_percent'] = ((df2['actual_price'] - df2['discount_price']) / df2['actual_price']) * 100\n",
    "df2.sample(3)"
   ]
  },
  {
   "cell_type": "markdown",
   "metadata": {},
   "source": [
    "### EXPLANATORY DATA ANALYSIS"
   ]
  },
  {
   "cell_type": "code",
   "execution_count": 468,
   "metadata": {},
   "outputs": [
    {
     "data": {
      "text/plain": [
       "array(['appliances', 'car & motorbike', 'tv, audio & cameras',\n",
       "       'sports & fitness', 'grocery & gourmet foods', 'home & kitchen',\n",
       "       'pet supplies', 'stores', 'toys & baby products', \"kids' fashion\",\n",
       "       'bags & luggage', 'accessories', \"women's shoes\",\n",
       "       'beauty & health', \"men's shoes\", \"women's clothing\",\n",
       "       'industrial supplies', \"men's clothing\", 'music',\n",
       "       'home, kitchen, pets'], dtype=object)"
      ]
     },
     "execution_count": 468,
     "metadata": {},
     "output_type": "execute_result"
    }
   ],
   "source": [
    "df2['main_category'].unique()"
   ]
  },
  {
   "cell_type": "code",
   "execution_count": 469,
   "metadata": {},
   "outputs": [],
   "source": [
    "df2['isDarkPattern'] =  0"
   ]
  },
  {
   "cell_type": "code",
   "execution_count": 470,
   "metadata": {},
   "outputs": [],
   "source": [
    "unique_categories = df2['main_category'].unique()\n",
    "separate_dfs = {}\n",
    "for category in unique_categories:\n",
    "    separate_dfs[category] = df2[df2['main_category'] == category].copy() "
   ]
  },
  {
   "cell_type": "code",
   "execution_count": 471,
   "metadata": {},
   "outputs": [
    {
     "data": {
      "text/plain": [
       "\"  \\ncat1 = appliances\\ncat2 = car & motorbike\\ncat3 = tv, audio & cameras\\ncat4 = sports & fitness\\ncat5 = grocery & gourmet foods\\ncat6 = home & kitchen\\ncat7 = pet supplies\\ncat8 = stores\\ncat9 = toys & baby products\\ncat10 = kids' fashion\\ncat11 = bags & luggage\\ncat12 = accessories\\ncat13 = women's shoes\\ncat14 = beauty & health\\ncat15 = men's shoes\\ncat16 = women's clothing\\ncat17 = industrial supplies\\ncat18 = men's clothing\\ncat19 = music\\ncat20 = home, kitchen, pets\\n\""
      ]
     },
     "execution_count": 471,
     "metadata": {},
     "output_type": "execute_result"
    }
   ],
   "source": [
    "\"\"\"  \n",
    "cat1 = appliances\n",
    "cat2 = car & motorbike\n",
    "cat3 = tv, audio & cameras\n",
    "cat4 = sports & fitness\n",
    "cat5 = grocery & gourmet foods\n",
    "cat6 = home & kitchen\n",
    "cat7 = pet supplies\n",
    "cat8 = stores\n",
    "cat9 = toys & baby products\n",
    "cat10 = kids' fashion\n",
    "cat11 = bags & luggage\n",
    "cat12 = accessories\n",
    "cat13 = women's shoes\n",
    "cat14 = beauty & health\n",
    "cat15 = men's shoes\n",
    "cat16 = women's clothing\n",
    "cat17 = industrial supplies\n",
    "cat18 = men's clothing\n",
    "cat19 = music\n",
    "cat20 = home, kitchen, pets\n",
    "\"\"\""
   ]
  },
  {
   "cell_type": "code",
   "execution_count": 472,
   "metadata": {},
   "outputs": [],
   "source": [
    "cat = []\n",
    "for _ in range(20):\n",
    "    cat.append(None)\n",
    "cat[0] = separate_dfs['home, kitchen, pets']\n",
    "cat[1] = separate_dfs['appliances']\n",
    "cat[2] = separate_dfs['car & motorbike']\n",
    "cat[3] = separate_dfs['tv, audio & cameras']\n",
    "cat[4] = separate_dfs['sports & fitness']\n",
    "cat[5] = separate_dfs['grocery & gourmet foods']\n",
    "cat[6] = separate_dfs['home & kitchen']\n",
    "cat[7] = separate_dfs['pet supplies']\n",
    "cat[8] = separate_dfs['stores']\n",
    "cat[9] = separate_dfs['toys & baby products']\n",
    "cat[10] = separate_dfs[\"kids' fashion\"]\n",
    "cat[11] = separate_dfs['bags & luggage']\n",
    "cat[12] = separate_dfs['accessories']\n",
    "cat[13] = separate_dfs[\"women's shoes\"]\n",
    "cat[14] = separate_dfs['beauty & health']\n",
    "cat[15] = separate_dfs[\"men's shoes\"]\n",
    "cat[16] = separate_dfs[\"women's clothing\"]\n",
    "cat[17] = separate_dfs['industrial supplies']\n",
    "cat[18] = separate_dfs[\"men's clothing\"]\n",
    "cat[19] = separate_dfs['music']"
   ]
  },
  {
   "cell_type": "code",
   "execution_count": 473,
   "metadata": {},
   "outputs": [
    {
     "name": "stdout",
     "output_type": "stream",
     "text": [
      "No of items in cat[0] = 12\n",
      "No of items in cat[1] = 25495\n",
      "No of items in cat[2] = 5155\n",
      "No of items in cat[3] = 46533\n",
      "No of items in cat[4] = 8017\n",
      "No of items in cat[5] = 2343\n",
      "No of items in cat[6] = 12523\n",
      "No of items in cat[7] = 1232\n",
      "No of items in cat[8] = 22190\n",
      "No of items in cat[9] = 4591\n",
      "No of items in cat[10] = 5697\n",
      "No of items in cat[11] = 3212\n",
      "No of items in cat[12] = 62848\n",
      "No of items in cat[13] = 2435\n",
      "No of items in cat[14] = 6723\n",
      "No of items in cat[15] = 24833\n",
      "No of items in cat[16] = 60447\n",
      "No of items in cat[17] = 2592\n",
      "No of items in cat[18] = 37025\n",
      "No of items in cat[19] = 747\n"
     ]
    }
   ],
   "source": [
    "# no of products according to topic\n",
    "for i in range(20):\n",
    "    print(f\"No of items in cat[{i}] = {len(cat[i])}\")"
   ]
  },
  {
   "cell_type": "markdown",
   "metadata": {},
   "source": [
    "# FLAGGING"
   ]
  },
  {
   "cell_type": "code",
   "execution_count": 474,
   "metadata": {},
   "outputs": [],
   "source": [
    "# Function to show distribution of 'diff_percent' based on 'main_category'\n",
    "\n",
    "def diff_percent_distribution(dataframe):\n",
    "    dataframe_copy = dataframe.copy()\n",
    "    bin_edges = list(range(0, 101, 10))\n",
    "    bin_labels = [f\"{i}-{i+10}\" for i in range(0, 100, 10)]\n",
    "    dataframe_copy['diff_percent_range'] = pd.cut(dataframe_copy['diff_percent'], bins=bin_edges, labels=bin_labels, include_lowest=True)\n",
    "    grouped_data = dataframe_copy.groupby('diff_percent_range').agg(\n",
    "        count=('diff_percent', 'size'),\n",
    "    ).reset_index()\n",
    "    return grouped_data\n",
    "\n",
    "\n",
    "# Function to flag 'isDarkPattern' column  \n",
    "def flag_dark_pattern(dataframe, threshold_percentage, category):\n",
    "    mask = (dataframe['main_category'] == category) & (dataframe['diff_percent'] > threshold_percentage)\n",
    "    dataframe.loc[mask, 'isDarkPattern'] = 1\n",
    "    return dataframe\n"
   ]
  },
  {
   "cell_type": "markdown",
   "metadata": {},
   "source": [
    "## \"home, kitchen, pets\" CATEGORY"
   ]
  },
  {
   "cell_type": "code",
   "execution_count": 475,
   "metadata": {},
   "outputs": [
    {
     "name": "stdout",
     "output_type": "stream",
     "text": [
      "  diff_percent_range  count\n",
      "0               0-10      3\n",
      "1              10-20      6\n",
      "2              20-30      3\n",
      "3              30-40      0\n",
      "4              40-50      0\n",
      "5              50-60      0\n",
      "6              60-70      0\n",
      "7              70-80      0\n",
      "8              80-90      0\n",
      "9             90-100      0\n"
     ]
    },
    {
     "name": "stderr",
     "output_type": "stream",
     "text": [
      "C:\\Users\\Tanush\\AppData\\Local\\Temp\\ipykernel_15120\\2074046716.py:8: FutureWarning: The default of observed=False is deprecated and will be changed to True in a future version of pandas. Pass observed=False to retain current behavior or observed=True to adopt the future default and silence this warning.\n",
      "  grouped_data = dataframe_copy.groupby('diff_percent_range').agg(\n"
     ]
    }
   ],
   "source": [
    "table = diff_percent_distribution(cat[0])\n",
    "print(table)"
   ]
  },
  {
   "cell_type": "code",
   "execution_count": 476,
   "metadata": {},
   "outputs": [],
   "source": [
    "df2 = flag_dark_pattern(df2, 10, 'home, kitchen, pets')"
   ]
  },
  {
   "cell_type": "markdown",
   "metadata": {},
   "source": [
    "## \"appliances\" CATEGORY"
   ]
  },
  {
   "cell_type": "code",
   "execution_count": 477,
   "metadata": {},
   "outputs": [
    {
     "name": "stdout",
     "output_type": "stream",
     "text": [
      "  diff_percent_range  count\n",
      "0               0-10   1414\n",
      "1              10-20   2440\n",
      "2              20-30   4223\n",
      "3              30-40   4932\n",
      "4              40-50   4358\n",
      "5              50-60   4041\n",
      "6              60-70   2478\n",
      "7              70-80   1271\n",
      "8              80-90    285\n",
      "9             90-100     53\n"
     ]
    },
    {
     "name": "stderr",
     "output_type": "stream",
     "text": [
      "C:\\Users\\Tanush\\AppData\\Local\\Temp\\ipykernel_15120\\2074046716.py:8: FutureWarning: The default of observed=False is deprecated and will be changed to True in a future version of pandas. Pass observed=False to retain current behavior or observed=True to adopt the future default and silence this warning.\n",
      "  grouped_data = dataframe_copy.groupby('diff_percent_range').agg(\n"
     ]
    }
   ],
   "source": [
    "table = diff_percent_distribution(cat[1])\n",
    "print(table)"
   ]
  },
  {
   "cell_type": "code",
   "execution_count": 478,
   "metadata": {},
   "outputs": [],
   "source": [
    "df2 = flag_dark_pattern(df2, 50, 'appliances')"
   ]
  },
  {
   "cell_type": "markdown",
   "metadata": {},
   "source": [
    "## \"car & motorbike\" CATEGORY"
   ]
  },
  {
   "cell_type": "code",
   "execution_count": 479,
   "metadata": {},
   "outputs": [
    {
     "name": "stdout",
     "output_type": "stream",
     "text": [
      "  diff_percent_range  count\n",
      "0               0-10    247\n",
      "1              10-20    349\n",
      "2              20-30    514\n",
      "3              30-40    633\n",
      "4              40-50    852\n",
      "5              50-60   1120\n",
      "6              60-70    804\n",
      "7              70-80    499\n",
      "8              80-90    125\n",
      "9             90-100     12\n"
     ]
    },
    {
     "name": "stderr",
     "output_type": "stream",
     "text": [
      "C:\\Users\\Tanush\\AppData\\Local\\Temp\\ipykernel_15120\\2074046716.py:8: FutureWarning: The default of observed=False is deprecated and will be changed to True in a future version of pandas. Pass observed=False to retain current behavior or observed=True to adopt the future default and silence this warning.\n",
      "  grouped_data = dataframe_copy.groupby('diff_percent_range').agg(\n"
     ]
    }
   ],
   "source": [
    "table = diff_percent_distribution(cat[2])\n",
    "print(table)"
   ]
  },
  {
   "cell_type": "code",
   "execution_count": 480,
   "metadata": {},
   "outputs": [],
   "source": [
    "df2 = flag_dark_pattern(df2, 60, 'car & motorbike')"
   ]
  },
  {
   "cell_type": "markdown",
   "metadata": {},
   "source": [
    "## \"tv, audio & cameras\" CATEGORY"
   ]
  },
  {
   "cell_type": "code",
   "execution_count": 481,
   "metadata": {},
   "outputs": [
    {
     "name": "stdout",
     "output_type": "stream",
     "text": [
      "  diff_percent_range  count\n",
      "0               0-10   1413\n",
      "1              10-20   2643\n",
      "2              20-30   4196\n",
      "3              30-40   5522\n",
      "4              40-50   7244\n",
      "5              50-60   9287\n",
      "6              60-70   8077\n",
      "7              70-80   5661\n",
      "8              80-90   2149\n",
      "9             90-100    341\n"
     ]
    },
    {
     "name": "stderr",
     "output_type": "stream",
     "text": [
      "C:\\Users\\Tanush\\AppData\\Local\\Temp\\ipykernel_15120\\2074046716.py:8: FutureWarning: The default of observed=False is deprecated and will be changed to True in a future version of pandas. Pass observed=False to retain current behavior or observed=True to adopt the future default and silence this warning.\n",
      "  grouped_data = dataframe_copy.groupby('diff_percent_range').agg(\n"
     ]
    }
   ],
   "source": [
    "table = diff_percent_distribution(cat[3])\n",
    "print(table)"
   ]
  },
  {
   "cell_type": "code",
   "execution_count": 482,
   "metadata": {},
   "outputs": [],
   "source": [
    "df2 = flag_dark_pattern(df2, 60, 'tv, audio & cameras')"
   ]
  },
  {
   "cell_type": "markdown",
   "metadata": {},
   "source": [
    "## \"sports & fitness\" CATEGORY"
   ]
  },
  {
   "cell_type": "code",
   "execution_count": 483,
   "metadata": {},
   "outputs": [
    {
     "name": "stdout",
     "output_type": "stream",
     "text": [
      "  diff_percent_range  count\n",
      "0               0-10    386\n",
      "1              10-20    514\n",
      "2              20-30    656\n",
      "3              30-40    887\n",
      "4              40-50   1187\n",
      "5              50-60   1677\n",
      "6              60-70   1470\n",
      "7              70-80    923\n",
      "8              80-90    292\n",
      "9             90-100     25\n"
     ]
    },
    {
     "name": "stderr",
     "output_type": "stream",
     "text": [
      "C:\\Users\\Tanush\\AppData\\Local\\Temp\\ipykernel_15120\\2074046716.py:8: FutureWarning: The default of observed=False is deprecated and will be changed to True in a future version of pandas. Pass observed=False to retain current behavior or observed=True to adopt the future default and silence this warning.\n",
      "  grouped_data = dataframe_copy.groupby('diff_percent_range').agg(\n"
     ]
    }
   ],
   "source": [
    "table = diff_percent_distribution(cat[4])\n",
    "print(table)"
   ]
  },
  {
   "cell_type": "code",
   "execution_count": 484,
   "metadata": {},
   "outputs": [],
   "source": [
    "df2 = flag_dark_pattern(df2, 60, 'sports & fitness')"
   ]
  },
  {
   "cell_type": "markdown",
   "metadata": {},
   "source": [
    "## \"grocery & gourmet foods\" CATEGORY"
   ]
  },
  {
   "cell_type": "code",
   "execution_count": 485,
   "metadata": {},
   "outputs": [
    {
     "name": "stderr",
     "output_type": "stream",
     "text": [
      "C:\\Users\\Tanush\\AppData\\Local\\Temp\\ipykernel_15120\\2074046716.py:8: FutureWarning: The default of observed=False is deprecated and will be changed to True in a future version of pandas. Pass observed=False to retain current behavior or observed=True to adopt the future default and silence this warning.\n",
      "  grouped_data = dataframe_copy.groupby('diff_percent_range').agg(\n"
     ]
    },
    {
     "name": "stdout",
     "output_type": "stream",
     "text": [
      "  diff_percent_range  count\n",
      "0               0-10    713\n",
      "1              10-20    499\n",
      "2              20-30    409\n",
      "3              30-40    300\n",
      "4              40-50    198\n",
      "5              50-60    140\n",
      "6              60-70     44\n",
      "7              70-80     23\n",
      "8              80-90     13\n",
      "9             90-100      4\n"
     ]
    }
   ],
   "source": [
    "table = diff_percent_distribution(cat[5])\n",
    "print(table)"
   ]
  },
  {
   "cell_type": "code",
   "execution_count": 486,
   "metadata": {},
   "outputs": [],
   "source": [
    "df2 = flag_dark_pattern(df2, 80, 'grocery & gourmet foods')"
   ]
  },
  {
   "cell_type": "markdown",
   "metadata": {},
   "source": [
    "## \"home & kitchen\" CATEGORY"
   ]
  },
  {
   "cell_type": "code",
   "execution_count": 487,
   "metadata": {},
   "outputs": [
    {
     "name": "stderr",
     "output_type": "stream",
     "text": [
      "C:\\Users\\Tanush\\AppData\\Local\\Temp\\ipykernel_15120\\2074046716.py:8: FutureWarning: The default of observed=False is deprecated and will be changed to True in a future version of pandas. Pass observed=False to retain current behavior or observed=True to adopt the future default and silence this warning.\n",
      "  grouped_data = dataframe_copy.groupby('diff_percent_range').agg(\n"
     ]
    },
    {
     "name": "stdout",
     "output_type": "stream",
     "text": [
      "  diff_percent_range  count\n",
      "0               0-10    533\n",
      "1              10-20    784\n",
      "2              20-30   1197\n",
      "3              30-40   1529\n",
      "4              40-50   1978\n",
      "5              50-60   2576\n",
      "6              60-70   2182\n",
      "7              70-80   1234\n",
      "8              80-90    477\n",
      "9             90-100     33\n"
     ]
    }
   ],
   "source": [
    "table = diff_percent_distribution(cat[6])\n",
    "print(table)"
   ]
  },
  {
   "cell_type": "code",
   "execution_count": 488,
   "metadata": {},
   "outputs": [],
   "source": [
    "df2 = flag_dark_pattern(df2, 70, 'home & kitchen')"
   ]
  },
  {
   "cell_type": "markdown",
   "metadata": {},
   "source": [
    "## \"pet supplies\" CATEGORY"
   ]
  },
  {
   "cell_type": "code",
   "execution_count": 489,
   "metadata": {},
   "outputs": [
    {
     "name": "stdout",
     "output_type": "stream",
     "text": [
      "  diff_percent_range  count\n",
      "0               0-10    174\n",
      "1              10-20    199\n",
      "2              20-30    163\n",
      "3              30-40    152\n",
      "4              40-50    155\n",
      "5              50-60    193\n",
      "6              60-70    126\n",
      "7              70-80     55\n",
      "8              80-90     11\n",
      "9             90-100      4\n"
     ]
    },
    {
     "name": "stderr",
     "output_type": "stream",
     "text": [
      "C:\\Users\\Tanush\\AppData\\Local\\Temp\\ipykernel_15120\\2074046716.py:8: FutureWarning: The default of observed=False is deprecated and will be changed to True in a future version of pandas. Pass observed=False to retain current behavior or observed=True to adopt the future default and silence this warning.\n",
      "  grouped_data = dataframe_copy.groupby('diff_percent_range').agg(\n"
     ]
    }
   ],
   "source": [
    "table = diff_percent_distribution(cat[7])\n",
    "print(table)"
   ]
  },
  {
   "cell_type": "code",
   "execution_count": 490,
   "metadata": {},
   "outputs": [],
   "source": [
    "df2 = flag_dark_pattern(df2, 70, 'pet supplies')"
   ]
  },
  {
   "cell_type": "markdown",
   "metadata": {},
   "source": [
    "## \"stores\" CATEGORY"
   ]
  },
  {
   "cell_type": "code",
   "execution_count": 491,
   "metadata": {},
   "outputs": [
    {
     "name": "stdout",
     "output_type": "stream",
     "text": [
      "  diff_percent_range  count\n",
      "0               0-10    996\n",
      "1              10-20   1507\n",
      "2              20-30   1877\n",
      "3              30-40   2135\n",
      "4              40-50   2526\n",
      "5              50-60   3327\n",
      "6              60-70   3409\n",
      "7              70-80   3689\n",
      "8              80-90   2493\n",
      "9             90-100    231\n"
     ]
    },
    {
     "name": "stderr",
     "output_type": "stream",
     "text": [
      "C:\\Users\\Tanush\\AppData\\Local\\Temp\\ipykernel_15120\\2074046716.py:8: FutureWarning: The default of observed=False is deprecated and will be changed to True in a future version of pandas. Pass observed=False to retain current behavior or observed=True to adopt the future default and silence this warning.\n",
      "  grouped_data = dataframe_copy.groupby('diff_percent_range').agg(\n"
     ]
    }
   ],
   "source": [
    "table = diff_percent_distribution(cat[8])\n",
    "print(table)"
   ]
  },
  {
   "cell_type": "code",
   "execution_count": 492,
   "metadata": {},
   "outputs": [],
   "source": [
    "df2 = flag_dark_pattern(df2, 90, 'stores')"
   ]
  },
  {
   "cell_type": "markdown",
   "metadata": {},
   "source": [
    "## \"toys & baby products\" CATEGORY"
   ]
  },
  {
   "cell_type": "code",
   "execution_count": 493,
   "metadata": {},
   "outputs": [
    {
     "name": "stdout",
     "output_type": "stream",
     "text": [
      "  diff_percent_range  count\n",
      "0               0-10    434\n",
      "1              10-20    521\n",
      "2              20-30    700\n",
      "3              30-40    677\n",
      "4              40-50    615\n",
      "5              50-60    693\n",
      "6              60-70    553\n",
      "7              70-80    313\n",
      "8              80-90     82\n",
      "9             90-100      3\n"
     ]
    },
    {
     "name": "stderr",
     "output_type": "stream",
     "text": [
      "C:\\Users\\Tanush\\AppData\\Local\\Temp\\ipykernel_15120\\2074046716.py:8: FutureWarning: The default of observed=False is deprecated and will be changed to True in a future version of pandas. Pass observed=False to retain current behavior or observed=True to adopt the future default and silence this warning.\n",
      "  grouped_data = dataframe_copy.groupby('diff_percent_range').agg(\n"
     ]
    }
   ],
   "source": [
    "table = diff_percent_distribution(cat[9])\n",
    "print(table)"
   ]
  },
  {
   "cell_type": "code",
   "execution_count": 494,
   "metadata": {},
   "outputs": [],
   "source": [
    "df2 = flag_dark_pattern(df2, 60, 'toys & baby products')"
   ]
  },
  {
   "cell_type": "markdown",
   "metadata": {},
   "source": [
    "## \"kids' fashion\" CATEGORY"
   ]
  },
  {
   "cell_type": "code",
   "execution_count": 495,
   "metadata": {},
   "outputs": [
    {
     "name": "stdout",
     "output_type": "stream",
     "text": [
      "  diff_percent_range  count\n",
      "0               0-10    210\n",
      "1              10-20    312\n",
      "2              20-30    478\n",
      "3              30-40    605\n",
      "4              40-50    826\n",
      "5              50-60   1213\n",
      "6              60-70   1082\n",
      "7              70-80    721\n",
      "8              80-90    238\n",
      "9             90-100     12\n"
     ]
    },
    {
     "name": "stderr",
     "output_type": "stream",
     "text": [
      "C:\\Users\\Tanush\\AppData\\Local\\Temp\\ipykernel_15120\\2074046716.py:8: FutureWarning: The default of observed=False is deprecated and will be changed to True in a future version of pandas. Pass observed=False to retain current behavior or observed=True to adopt the future default and silence this warning.\n",
      "  grouped_data = dataframe_copy.groupby('diff_percent_range').agg(\n"
     ]
    }
   ],
   "source": [
    "table = diff_percent_distribution(cat[10])\n",
    "print(table)"
   ]
  },
  {
   "cell_type": "code",
   "execution_count": 496,
   "metadata": {},
   "outputs": [],
   "source": [
    "df2 = flag_dark_pattern(df2, 70, \"kids' fashion\")"
   ]
  },
  {
   "cell_type": "markdown",
   "metadata": {},
   "source": [
    "## \"bags & luggage\" CATEGORY"
   ]
  },
  {
   "cell_type": "code",
   "execution_count": 497,
   "metadata": {},
   "outputs": [
    {
     "name": "stdout",
     "output_type": "stream",
     "text": [
      "  diff_percent_range  count\n",
      "0               0-10     96\n",
      "1              10-20    141\n",
      "2              20-30    234\n",
      "3              30-40    362\n",
      "4              40-50    480\n",
      "5              50-60    673\n",
      "6              60-70    614\n",
      "7              70-80    498\n",
      "8              80-90    103\n",
      "9             90-100     11\n"
     ]
    },
    {
     "name": "stderr",
     "output_type": "stream",
     "text": [
      "C:\\Users\\Tanush\\AppData\\Local\\Temp\\ipykernel_15120\\2074046716.py:8: FutureWarning: The default of observed=False is deprecated and will be changed to True in a future version of pandas. Pass observed=False to retain current behavior or observed=True to adopt the future default and silence this warning.\n",
      "  grouped_data = dataframe_copy.groupby('diff_percent_range').agg(\n"
     ]
    }
   ],
   "source": [
    "table = diff_percent_distribution(cat[11])\n",
    "print(table)"
   ]
  },
  {
   "cell_type": "code",
   "execution_count": 498,
   "metadata": {},
   "outputs": [],
   "source": [
    "df2 = flag_dark_pattern(df2, 70, 'bags & luggage')"
   ]
  },
  {
   "cell_type": "markdown",
   "metadata": {},
   "source": [
    "## \"accessories\" CATEGORY"
   ]
  },
  {
   "cell_type": "code",
   "execution_count": 499,
   "metadata": {},
   "outputs": [
    {
     "name": "stderr",
     "output_type": "stream",
     "text": [
      "C:\\Users\\Tanush\\AppData\\Local\\Temp\\ipykernel_15120\\2074046716.py:8: FutureWarning: The default of observed=False is deprecated and will be changed to True in a future version of pandas. Pass observed=False to retain current behavior or observed=True to adopt the future default and silence this warning.\n",
      "  grouped_data = dataframe_copy.groupby('diff_percent_range').agg(\n"
     ]
    },
    {
     "name": "stdout",
     "output_type": "stream",
     "text": [
      "  diff_percent_range  count\n",
      "0               0-10   1887\n",
      "1              10-20   2649\n",
      "2              20-30   3058\n",
      "3              30-40   4575\n",
      "4              40-50   6705\n",
      "5              50-60  10557\n",
      "6              60-70  11609\n",
      "7              70-80  12357\n",
      "8              80-90   8575\n",
      "9             90-100    876\n"
     ]
    }
   ],
   "source": [
    "table = diff_percent_distribution(cat[12])\n",
    "print(table)"
   ]
  },
  {
   "cell_type": "code",
   "execution_count": 500,
   "metadata": {},
   "outputs": [],
   "source": [
    "df2 = flag_dark_pattern(df2, 80, 'accessories')"
   ]
  },
  {
   "cell_type": "markdown",
   "metadata": {},
   "source": [
    "## \"women's shoes\" CATEGORY"
   ]
  },
  {
   "cell_type": "code",
   "execution_count": 501,
   "metadata": {},
   "outputs": [
    {
     "name": "stdout",
     "output_type": "stream",
     "text": [
      "  diff_percent_range  count\n",
      "0               0-10     95\n",
      "1              10-20    122\n",
      "2              20-30    247\n",
      "3              30-40    347\n",
      "4              40-50    522\n",
      "5              50-60    539\n",
      "6              60-70    369\n",
      "7              70-80    145\n",
      "8              80-90     48\n",
      "9             90-100      1\n"
     ]
    },
    {
     "name": "stderr",
     "output_type": "stream",
     "text": [
      "C:\\Users\\Tanush\\AppData\\Local\\Temp\\ipykernel_15120\\2074046716.py:8: FutureWarning: The default of observed=False is deprecated and will be changed to True in a future version of pandas. Pass observed=False to retain current behavior or observed=True to adopt the future default and silence this warning.\n",
      "  grouped_data = dataframe_copy.groupby('diff_percent_range').agg(\n"
     ]
    }
   ],
   "source": [
    "table = diff_percent_distribution(cat[13])\n",
    "print(table)"
   ]
  },
  {
   "cell_type": "code",
   "execution_count": 502,
   "metadata": {},
   "outputs": [],
   "source": [
    "df2 = flag_dark_pattern(df2, 70, \"women's shoes\")"
   ]
  },
  {
   "cell_type": "markdown",
   "metadata": {},
   "source": [
    "## \"beauty & health\" CATEGORY"
   ]
  },
  {
   "cell_type": "code",
   "execution_count": 503,
   "metadata": {},
   "outputs": [
    {
     "name": "stdout",
     "output_type": "stream",
     "text": [
      "  diff_percent_range  count\n",
      "0               0-10   1087\n",
      "1              10-20   1244\n",
      "2              20-30   1066\n",
      "3              30-40    942\n",
      "4              40-50    739\n",
      "5              50-60    710\n",
      "6              60-70    499\n",
      "7              70-80    306\n",
      "8              80-90    124\n",
      "9             90-100      6\n"
     ]
    },
    {
     "name": "stderr",
     "output_type": "stream",
     "text": [
      "C:\\Users\\Tanush\\AppData\\Local\\Temp\\ipykernel_15120\\2074046716.py:8: FutureWarning: The default of observed=False is deprecated and will be changed to True in a future version of pandas. Pass observed=False to retain current behavior or observed=True to adopt the future default and silence this warning.\n",
      "  grouped_data = dataframe_copy.groupby('diff_percent_range').agg(\n"
     ]
    }
   ],
   "source": [
    "table = diff_percent_distribution(cat[14])\n",
    "print(table)"
   ]
  },
  {
   "cell_type": "code",
   "execution_count": 504,
   "metadata": {},
   "outputs": [],
   "source": [
    "df2 = flag_dark_pattern(df2, 70, 'beauty & health')"
   ]
  },
  {
   "cell_type": "markdown",
   "metadata": {},
   "source": [
    "## \"men's shoes\" CATEGORY"
   ]
  },
  {
   "cell_type": "code",
   "execution_count": 505,
   "metadata": {},
   "outputs": [
    {
     "name": "stdout",
     "output_type": "stream",
     "text": [
      "  diff_percent_range  count\n",
      "0               0-10   1745\n",
      "1              10-20   1852\n",
      "2              20-30   2513\n",
      "3              30-40   3242\n",
      "4              40-50   4140\n",
      "5              50-60   4811\n",
      "6              60-70   3328\n",
      "7              70-80   2256\n",
      "8              80-90    941\n",
      "9             90-100      5\n"
     ]
    },
    {
     "name": "stderr",
     "output_type": "stream",
     "text": [
      "C:\\Users\\Tanush\\AppData\\Local\\Temp\\ipykernel_15120\\2074046716.py:8: FutureWarning: The default of observed=False is deprecated and will be changed to True in a future version of pandas. Pass observed=False to retain current behavior or observed=True to adopt the future default and silence this warning.\n",
      "  grouped_data = dataframe_copy.groupby('diff_percent_range').agg(\n"
     ]
    }
   ],
   "source": [
    "table = diff_percent_distribution(cat[15])\n",
    "print(table)"
   ]
  },
  {
   "cell_type": "code",
   "execution_count": 506,
   "metadata": {},
   "outputs": [],
   "source": [
    "df2 = flag_dark_pattern(df2, 80, \"men's shoes\")"
   ]
  },
  {
   "cell_type": "markdown",
   "metadata": {},
   "source": [
    "## \"women's clothing\" CATEGORY"
   ]
  },
  {
   "cell_type": "code",
   "execution_count": 507,
   "metadata": {},
   "outputs": [
    {
     "name": "stdout",
     "output_type": "stream",
     "text": [
      "  diff_percent_range  count\n",
      "0               0-10   1031\n",
      "1              10-20   1219\n",
      "2              20-30   1913\n",
      "3              30-40   3319\n",
      "4              40-50   6198\n",
      "5              50-60  11668\n",
      "6              60-70  14487\n",
      "7              70-80  13400\n",
      "8              80-90   6858\n",
      "9             90-100    354\n"
     ]
    },
    {
     "name": "stderr",
     "output_type": "stream",
     "text": [
      "C:\\Users\\Tanush\\AppData\\Local\\Temp\\ipykernel_15120\\2074046716.py:8: FutureWarning: The default of observed=False is deprecated and will be changed to True in a future version of pandas. Pass observed=False to retain current behavior or observed=True to adopt the future default and silence this warning.\n",
      "  grouped_data = dataframe_copy.groupby('diff_percent_range').agg(\n"
     ]
    }
   ],
   "source": [
    "table = diff_percent_distribution(cat[16])\n",
    "print(table)"
   ]
  },
  {
   "cell_type": "code",
   "execution_count": 508,
   "metadata": {},
   "outputs": [],
   "source": [
    "df2 = flag_dark_pattern(df2, 80, \"women's clothing\")"
   ]
  },
  {
   "cell_type": "markdown",
   "metadata": {},
   "source": [
    "## \"industrial supplies\" CATEGORY"
   ]
  },
  {
   "cell_type": "code",
   "execution_count": 509,
   "metadata": {},
   "outputs": [
    {
     "name": "stdout",
     "output_type": "stream",
     "text": [
      "  diff_percent_range  count\n",
      "0               0-10    212\n",
      "1              10-20    260\n",
      "2              20-30    333\n",
      "3              30-40    379\n",
      "4              40-50    430\n",
      "5              50-60    425\n",
      "6              60-70    279\n",
      "7              70-80    181\n",
      "8              80-90     73\n",
      "9             90-100     20\n"
     ]
    },
    {
     "name": "stderr",
     "output_type": "stream",
     "text": [
      "C:\\Users\\Tanush\\AppData\\Local\\Temp\\ipykernel_15120\\2074046716.py:8: FutureWarning: The default of observed=False is deprecated and will be changed to True in a future version of pandas. Pass observed=False to retain current behavior or observed=True to adopt the future default and silence this warning.\n",
      "  grouped_data = dataframe_copy.groupby('diff_percent_range').agg(\n"
     ]
    }
   ],
   "source": [
    "table = diff_percent_distribution(cat[17])\n",
    "print(table)"
   ]
  },
  {
   "cell_type": "code",
   "execution_count": 510,
   "metadata": {},
   "outputs": [],
   "source": [
    "df2 = flag_dark_pattern(df2, 50, 'industrial supplies')"
   ]
  },
  {
   "cell_type": "markdown",
   "metadata": {},
   "source": [
    "## \"men's clothing\" CATEGORY"
   ]
  },
  {
   "cell_type": "code",
   "execution_count": 511,
   "metadata": {},
   "outputs": [
    {
     "name": "stdout",
     "output_type": "stream",
     "text": [
      "  diff_percent_range  count\n",
      "0               0-10   2281\n",
      "1              10-20   2229\n",
      "2              20-30   2583\n",
      "3              30-40   3479\n",
      "4              40-50   5322\n",
      "5              50-60   8859\n",
      "6              60-70   6762\n",
      "7              70-80   4568\n",
      "8              80-90    912\n",
      "9             90-100     30\n"
     ]
    },
    {
     "name": "stderr",
     "output_type": "stream",
     "text": [
      "C:\\Users\\Tanush\\AppData\\Local\\Temp\\ipykernel_15120\\2074046716.py:8: FutureWarning: The default of observed=False is deprecated and will be changed to True in a future version of pandas. Pass observed=False to retain current behavior or observed=True to adopt the future default and silence this warning.\n",
      "  grouped_data = dataframe_copy.groupby('diff_percent_range').agg(\n"
     ]
    }
   ],
   "source": [
    "table = diff_percent_distribution(cat[18])\n",
    "print(table)"
   ]
  },
  {
   "cell_type": "code",
   "execution_count": 512,
   "metadata": {},
   "outputs": [],
   "source": [
    "df2 = flag_dark_pattern(df2, 70, \"men's clothing\")"
   ]
  },
  {
   "cell_type": "markdown",
   "metadata": {},
   "source": [
    "## \"music\" CATEGORY"
   ]
  },
  {
   "cell_type": "code",
   "execution_count": 513,
   "metadata": {},
   "outputs": [
    {
     "name": "stdout",
     "output_type": "stream",
     "text": [
      "  diff_percent_range  count\n",
      "0               0-10     80\n",
      "1              10-20     87\n",
      "2              20-30     75\n",
      "3              30-40    130\n",
      "4              40-50    123\n",
      "5              50-60    120\n",
      "6              60-70     87\n",
      "7              70-80     35\n",
      "8              80-90     10\n",
      "9             90-100      0\n"
     ]
    },
    {
     "name": "stderr",
     "output_type": "stream",
     "text": [
      "C:\\Users\\Tanush\\AppData\\Local\\Temp\\ipykernel_15120\\2074046716.py:8: FutureWarning: The default of observed=False is deprecated and will be changed to True in a future version of pandas. Pass observed=False to retain current behavior or observed=True to adopt the future default and silence this warning.\n",
      "  grouped_data = dataframe_copy.groupby('diff_percent_range').agg(\n"
     ]
    }
   ],
   "source": [
    "table = diff_percent_distribution(cat[19])\n",
    "print(table)"
   ]
  },
  {
   "cell_type": "code",
   "execution_count": 514,
   "metadata": {},
   "outputs": [],
   "source": [
    "df2 = flag_dark_pattern(df2, 50, 'music')"
   ]
  },
  {
   "cell_type": "markdown",
   "metadata": {},
   "source": [
    "## EXPORT"
   ]
  },
  {
   "cell_type": "code",
   "execution_count": 515,
   "metadata": {},
   "outputs": [
    {
     "data": {
      "text/plain": [
       "isDarkPattern\n",
       "0    276560\n",
       "1     58090\n",
       "Name: count, dtype: int64"
      ]
     },
     "execution_count": 515,
     "metadata": {},
     "output_type": "execute_result"
    }
   ],
   "source": [
    "df2['isDarkPattern'].value_counts()"
   ]
  },
  {
   "cell_type": "code",
   "execution_count": 516,
   "metadata": {},
   "outputs": [
    {
     "data": {
      "text/html": [
       "<div>\n",
       "<style scoped>\n",
       "    .dataframe tbody tr th:only-of-type {\n",
       "        vertical-align: middle;\n",
       "    }\n",
       "\n",
       "    .dataframe tbody tr th {\n",
       "        vertical-align: top;\n",
       "    }\n",
       "\n",
       "    .dataframe thead th {\n",
       "        text-align: right;\n",
       "    }\n",
       "</style>\n",
       "<table border=\"1\" class=\"dataframe\">\n",
       "  <thead>\n",
       "    <tr style=\"text-align: right;\">\n",
       "      <th></th>\n",
       "      <th>prodID</th>\n",
       "      <th>main_category</th>\n",
       "      <th>ratings</th>\n",
       "      <th>no_of_ratings</th>\n",
       "      <th>discount_price</th>\n",
       "      <th>actual_price</th>\n",
       "      <th>name</th>\n",
       "      <th>link</th>\n",
       "      <th>image</th>\n",
       "      <th>isDarkPattern</th>\n",
       "      <th>diff_percent</th>\n",
       "    </tr>\n",
       "  </thead>\n",
       "  <tbody>\n",
       "    <tr>\n",
       "      <th>66136</th>\n",
       "      <td>66136</td>\n",
       "      <td>tv, audio &amp; cameras</td>\n",
       "      <td>3.4</td>\n",
       "      <td>18</td>\n",
       "      <td>399.0</td>\n",
       "      <td>499.0</td>\n",
       "      <td>Action Pro Double Bracket Bridge Mount Compati...</td>\n",
       "      <td>https://www.amazon.in/Action-Pro-Bracket-Sessi...</td>\n",
       "      <td>https://m.media-amazon.com/images/I/51QoBWW7lv...</td>\n",
       "      <td>0</td>\n",
       "      <td>20.040080</td>\n",
       "    </tr>\n",
       "    <tr>\n",
       "      <th>86718</th>\n",
       "      <td>86718</td>\n",
       "      <td>men's shoes</td>\n",
       "      <td>3.8</td>\n",
       "      <td>91</td>\n",
       "      <td>1499.0</td>\n",
       "      <td>4999.0</td>\n",
       "      <td>Mikaasa Men's Police 5.0 Light Weight Ankle Le...</td>\n",
       "      <td>https://www.amazon.in/Mikaasa-Police-Light-Wei...</td>\n",
       "      <td>https://m.media-amazon.com/images/I/81K24dCK3T...</td>\n",
       "      <td>0</td>\n",
       "      <td>70.014003</td>\n",
       "    </tr>\n",
       "    <tr>\n",
       "      <th>516060</th>\n",
       "      <td>516060</td>\n",
       "      <td>accessories</td>\n",
       "      <td>5.0</td>\n",
       "      <td>1</td>\n",
       "      <td>3094.0</td>\n",
       "      <td>5950.0</td>\n",
       "      <td>Daniel Klein Analog Rose Gold Dial Women's Wat...</td>\n",
       "      <td>https://www.amazon.in/Daniel-Klein-Analog-Wome...</td>\n",
       "      <td>https://m.media-amazon.com/images/W/IMAGERENDE...</td>\n",
       "      <td>0</td>\n",
       "      <td>48.000000</td>\n",
       "    </tr>\n",
       "    <tr>\n",
       "      <th>22070</th>\n",
       "      <td>22070</td>\n",
       "      <td>sports &amp; fitness</td>\n",
       "      <td>5.0</td>\n",
       "      <td>1</td>\n",
       "      <td>669.0</td>\n",
       "      <td>749.0</td>\n",
       "      <td>Max Women's Typographic Printed Drawstring Wai...</td>\n",
       "      <td>https://www.amazon.in/Max-Womens-Regular-Track...</td>\n",
       "      <td>https://m.media-amazon.com/images/I/61D9YdOcBB...</td>\n",
       "      <td>0</td>\n",
       "      <td>10.680908</td>\n",
       "    </tr>\n",
       "    <tr>\n",
       "      <th>153827</th>\n",
       "      <td>153827</td>\n",
       "      <td>accessories</td>\n",
       "      <td>3.8</td>\n",
       "      <td>492</td>\n",
       "      <td>339.0</td>\n",
       "      <td>2480.0</td>\n",
       "      <td>Young &amp; Forever Valentine Gift Reiki Infused H...</td>\n",
       "      <td>https://www.amazon.in/Young-Forever-Collection...</td>\n",
       "      <td>https://m.media-amazon.com/images/I/61hVbFbCPf...</td>\n",
       "      <td>1</td>\n",
       "      <td>86.330645</td>\n",
       "    </tr>\n",
       "    <tr>\n",
       "      <th>155326</th>\n",
       "      <td>155326</td>\n",
       "      <td>accessories</td>\n",
       "      <td>3.9</td>\n",
       "      <td>115</td>\n",
       "      <td>358.0</td>\n",
       "      <td>1900.0</td>\n",
       "      <td>Yellow Chimes Bracelets for Women Combo of 2 P...</td>\n",
       "      <td>https://www.amazon.in/Yellow-Chimes-Italian-Va...</td>\n",
       "      <td>https://m.media-amazon.com/images/I/61HlxDD+JQ...</td>\n",
       "      <td>1</td>\n",
       "      <td>81.157895</td>\n",
       "    </tr>\n",
       "    <tr>\n",
       "      <th>483711</th>\n",
       "      <td>483711</td>\n",
       "      <td>men's clothing</td>\n",
       "      <td>4.1</td>\n",
       "      <td>34</td>\n",
       "      <td>449.0</td>\n",
       "      <td>1999.0</td>\n",
       "      <td>TRASA Men's Ultra Cotton Round Neck Slim Fit F...</td>\n",
       "      <td>https://www.amazon.in/TRASA-Ultra-Cotton-Sleev...</td>\n",
       "      <td>https://m.media-amazon.com/images/W/IMAGERENDE...</td>\n",
       "      <td>1</td>\n",
       "      <td>77.538769</td>\n",
       "    </tr>\n",
       "    <tr>\n",
       "      <th>369521</th>\n",
       "      <td>369521</td>\n",
       "      <td>women's clothing</td>\n",
       "      <td>5.0</td>\n",
       "      <td>1</td>\n",
       "      <td>319.0</td>\n",
       "      <td>499.0</td>\n",
       "      <td>Vibha Womens Hosiery Cotton Full Length Camiso...</td>\n",
       "      <td>https://www.amazon.in/Vibha-Camisole-Slip-Kurt...</td>\n",
       "      <td>https://m.media-amazon.com/images/W/IMAGERENDE...</td>\n",
       "      <td>0</td>\n",
       "      <td>36.072144</td>\n",
       "    </tr>\n",
       "    <tr>\n",
       "      <th>457602</th>\n",
       "      <td>457602</td>\n",
       "      <td>men's shoes</td>\n",
       "      <td>3.0</td>\n",
       "      <td>3</td>\n",
       "      <td>549.0</td>\n",
       "      <td>999.0</td>\n",
       "      <td>FOOTOX BE YOUR LABEL Men's Running Shoes | Cas...</td>\n",
       "      <td>https://www.amazon.in/FOOTOX-BE-YOUR-LABEL-FMS...</td>\n",
       "      <td>https://m.media-amazon.com/images/W/IMAGERENDE...</td>\n",
       "      <td>0</td>\n",
       "      <td>45.045045</td>\n",
       "    </tr>\n",
       "    <tr>\n",
       "      <th>468043</th>\n",
       "      <td>468043</td>\n",
       "      <td>stores</td>\n",
       "      <td>3.7</td>\n",
       "      <td>23</td>\n",
       "      <td>1519.0</td>\n",
       "      <td>1999.0</td>\n",
       "      <td>Liberty Men 9906-05 Black Running Shoes-10</td>\n",
       "      <td>https://www.amazon.in/Force-10-Liberty-Black-R...</td>\n",
       "      <td>https://m.media-amazon.com/images/W/IMAGERENDE...</td>\n",
       "      <td>0</td>\n",
       "      <td>24.012006</td>\n",
       "    </tr>\n",
       "  </tbody>\n",
       "</table>\n",
       "</div>"
      ],
      "text/plain": [
       "        prodID        main_category  ratings  no_of_ratings  discount_price  \\\n",
       "66136    66136  tv, audio & cameras      3.4             18           399.0   \n",
       "86718    86718          men's shoes      3.8             91          1499.0   \n",
       "516060  516060          accessories      5.0              1          3094.0   \n",
       "22070    22070     sports & fitness      5.0              1           669.0   \n",
       "153827  153827          accessories      3.8            492           339.0   \n",
       "155326  155326          accessories      3.9            115           358.0   \n",
       "483711  483711       men's clothing      4.1             34           449.0   \n",
       "369521  369521     women's clothing      5.0              1           319.0   \n",
       "457602  457602          men's shoes      3.0              3           549.0   \n",
       "468043  468043               stores      3.7             23          1519.0   \n",
       "\n",
       "        actual_price                                               name  \\\n",
       "66136          499.0  Action Pro Double Bracket Bridge Mount Compati...   \n",
       "86718         4999.0  Mikaasa Men's Police 5.0 Light Weight Ankle Le...   \n",
       "516060        5950.0  Daniel Klein Analog Rose Gold Dial Women's Wat...   \n",
       "22070          749.0  Max Women's Typographic Printed Drawstring Wai...   \n",
       "153827        2480.0  Young & Forever Valentine Gift Reiki Infused H...   \n",
       "155326        1900.0  Yellow Chimes Bracelets for Women Combo of 2 P...   \n",
       "483711        1999.0  TRASA Men's Ultra Cotton Round Neck Slim Fit F...   \n",
       "369521         499.0  Vibha Womens Hosiery Cotton Full Length Camiso...   \n",
       "457602         999.0  FOOTOX BE YOUR LABEL Men's Running Shoes | Cas...   \n",
       "468043        1999.0         Liberty Men 9906-05 Black Running Shoes-10   \n",
       "\n",
       "                                                     link  \\\n",
       "66136   https://www.amazon.in/Action-Pro-Bracket-Sessi...   \n",
       "86718   https://www.amazon.in/Mikaasa-Police-Light-Wei...   \n",
       "516060  https://www.amazon.in/Daniel-Klein-Analog-Wome...   \n",
       "22070   https://www.amazon.in/Max-Womens-Regular-Track...   \n",
       "153827  https://www.amazon.in/Young-Forever-Collection...   \n",
       "155326  https://www.amazon.in/Yellow-Chimes-Italian-Va...   \n",
       "483711  https://www.amazon.in/TRASA-Ultra-Cotton-Sleev...   \n",
       "369521  https://www.amazon.in/Vibha-Camisole-Slip-Kurt...   \n",
       "457602  https://www.amazon.in/FOOTOX-BE-YOUR-LABEL-FMS...   \n",
       "468043  https://www.amazon.in/Force-10-Liberty-Black-R...   \n",
       "\n",
       "                                                    image  isDarkPattern  \\\n",
       "66136   https://m.media-amazon.com/images/I/51QoBWW7lv...              0   \n",
       "86718   https://m.media-amazon.com/images/I/81K24dCK3T...              0   \n",
       "516060  https://m.media-amazon.com/images/W/IMAGERENDE...              0   \n",
       "22070   https://m.media-amazon.com/images/I/61D9YdOcBB...              0   \n",
       "153827  https://m.media-amazon.com/images/I/61hVbFbCPf...              1   \n",
       "155326  https://m.media-amazon.com/images/I/61HlxDD+JQ...              1   \n",
       "483711  https://m.media-amazon.com/images/W/IMAGERENDE...              1   \n",
       "369521  https://m.media-amazon.com/images/W/IMAGERENDE...              0   \n",
       "457602  https://m.media-amazon.com/images/W/IMAGERENDE...              0   \n",
       "468043  https://m.media-amazon.com/images/W/IMAGERENDE...              0   \n",
       "\n",
       "        diff_percent  \n",
       "66136      20.040080  \n",
       "86718      70.014003  \n",
       "516060     48.000000  \n",
       "22070      10.680908  \n",
       "153827     86.330645  \n",
       "155326     81.157895  \n",
       "483711     77.538769  \n",
       "369521     36.072144  \n",
       "457602     45.045045  \n",
       "468043     24.012006  "
      ]
     },
     "execution_count": 516,
     "metadata": {},
     "output_type": "execute_result"
    }
   ],
   "source": [
    "df2.sample(10)"
   ]
  },
  {
   "cell_type": "code",
   "execution_count": 517,
   "metadata": {},
   "outputs": [],
   "source": [
    "df2.to_csv('cleaned_data.csv', index=False)"
   ]
  }
 ],
 "metadata": {
  "kernelspec": {
   "display_name": "Python 3",
   "language": "python",
   "name": "python3"
  },
  "language_info": {
   "codemirror_mode": {
    "name": "ipython",
    "version": 3
   },
   "file_extension": ".py",
   "mimetype": "text/x-python",
   "name": "python",
   "nbconvert_exporter": "python",
   "pygments_lexer": "ipython3",
   "version": "3.12.0"
  }
 },
 "nbformat": 4,
 "nbformat_minor": 2
}
